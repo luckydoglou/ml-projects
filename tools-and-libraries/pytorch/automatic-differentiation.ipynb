{
 "cells": [
  {
   "cell_type": "markdown",
   "id": "8fc741aa",
   "metadata": {},
   "source": [
    "# Automatic Differentiation with `torch.autograd`\n",
    "\n",
    "Tutorial link: https://docs.pytorch.org/tutorials/beginner/basics/autogradqs_tutorial.html"
   ]
  },
  {
   "cell_type": "code",
   "execution_count": null,
   "id": "bb3b96a6",
   "metadata": {},
   "outputs": [],
   "source": []
  },
  {
   "cell_type": "code",
   "execution_count": null,
   "id": "9cabfd4f",
   "metadata": {},
   "outputs": [],
   "source": []
  },
  {
   "cell_type": "code",
   "execution_count": null,
   "id": "c712581f",
   "metadata": {},
   "outputs": [],
   "source": []
  }
 ],
 "metadata": {
  "kernelspec": {
   "display_name": "ML-General",
   "language": "python",
   "name": "python3"
  },
  "language_info": {
   "name": "python",
   "version": "3.12.2"
  }
 },
 "nbformat": 4,
 "nbformat_minor": 5
}
