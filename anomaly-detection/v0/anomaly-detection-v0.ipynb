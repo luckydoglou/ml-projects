{
 "cells": [
  {
   "cell_type": "markdown",
   "id": "9dddb276",
   "metadata": {},
   "source": [
    "# Anomaly Detection\n",
    "\n",
    "1. [Supervised Learning](#Supervised-Learning)  \n",
    "    - Dataset 1 - Credit Card Fraud Detection (source: https://www.kaggle.com/datasets/mlg-ulb/creditcardfraud)  \n",
    "    - Techniques used and results \n",
    "\n",
    "2. [Unsupervised Learning](#Unsupervised-Learning)  \n",
    "    - Dataset 2 -   \n",
    "    - Techniques used and results\n",
    "\n",
    "### Summary\n",
    "\n",
    "\n",
    "\n",
    "\n",
    "==================================================================================\n",
    "### Types of Anomalies:\n",
    "- Point Anomalies:  \n",
    "    Individual data points that are significantly different from the rest of the data.\n",
    "- Contextual Anomalies:  \n",
    "    Data points that are anomalous only within a specific context (e.g., high network traffic at 3 AM is normal, but at 3 PM might be an anomaly).\n",
    "- Collective Anomalies:  \n",
    "    A group of related data points that collectively represent an anomaly, even if individual points are not anomalous on their own.\n",
    "\n",
    "### Machine Learning Approaches:  \n",
    "Anomaly detection utilizes various machine learning techniques, broadly categorized as:\n",
    "##### Supervised :  \n",
    "Requires labeled datasets with both normal and anomalous data points. Algorithms like: \n",
    "- logistic regression, \n",
    "- decision trees, random forests, and \n",
    "- neural networks can be trained to classify new data as normal or anomalous. This approach is effective when anomalies are well-defined and sufficient labeled data is available. \n",
    "##### Unsupervised :\n",
    "Identifies anomalies without requiring labeled data by learning the underlying patterns of normal data and flagging deviations. This is particularly useful when anomalies are rare or unknown in advance. Common algorithms include:   \n",
    "- Isolation Forest: An ensemble method that isolates anomalies by building a tree structure.  \n",
    "- One-Class SVM (OCSVM): A variant of Support Vector Machines that learns a boundary around normal data, classifying points outside this boundary as anomalies.  \n",
    "- K-Nearest Neighbors (KNN): Anomaly scores are based on the distance to the K-nearest neighbors, with distant points being potential anomalies.   \n",
    "- Autoencoders: Neural networks that learn a compressed representation of data; high reconstruction error can indicate an anomaly.  \n",
    "- Clustering-based methods (e.g., K-Means): Identifies anomalies as data points that do not belong to any cluster or are far from cluster centroids.   \n",
    "##### Semi-supervised :\n",
    "Combines aspects of both supervised and unsupervised learning, often using a small amount of labeled data to guide the learning process.\n",
    "\n"
   ]
  },
  {
   "cell_type": "markdown",
   "id": "a1170431",
   "metadata": {},
   "source": [
    "<a name='Supervised-Learning'></a>\n",
    "## Supervised Learning\n",
    "\n",
    "1. [Data preparation and visualization](#step-1-data-preparation-and-visualization)\n",
    "2. Model development\n",
    "3. Model evaluation"
   ]
  },
  {
   "cell_type": "code",
   "execution_count": 11,
   "id": "0c6d5e38",
   "metadata": {},
   "outputs": [
    {
     "name": "stdout",
     "output_type": "stream",
     "text": [
      "Created data/credit-card-fraud/creditcard_part_0.csv\n",
      "Created data/credit-card-fraud/creditcard_part_1.csv\n",
      "Created data/credit-card-fraud/creditcard_part_2.csv\n",
      "Created data/credit-card-fraud/creditcard_part_3.csv\n",
      "Created data/credit-card-fraud/creditcard_part_4.csv\n",
      "Created data/credit-card-fraud/creditcard_part_5.csv\n"
     ]
    }
   ],
   "source": [
    "# Divide the original credit card fraud file (150.8MB, too large to upload to Github) into smaller size \n",
    "\n",
    "# ==========================\n",
    "# print all files in the current directory\n",
    "# import os\n",
    "# for dirname, _, filenames in os.walk('./'):\n",
    "#     for filename in filenames:\n",
    "#         print(os.path.join(dirname, filename))\n",
    "# ==========================\n",
    "\n",
    "# Step 1: unzip file\n",
    "from zipfile import ZipFile\n",
    "with ZipFile('./data/credit-card-fraud/creditcard.csv.zip', 'r') as zip_object:\n",
    "    zip_object.extractall('./data/credit-card-fraud/')\n",
    "\n",
    "# Step 2: divide the csv file into smaller files\n",
    "import pandas as pd\n",
    "\n",
    "input_csv_file_path = './data/credit-card-fraud/creditcard.csv'\n",
    "rows_per_file = 50_000\n",
    "output_prefix = 'data/credit-card-fraud/creditcard_part_'\n",
    "\n",
    "csv_reader = pd.read_csv(input_csv_file_path, chunksize=rows_per_file)\n",
    "for i, chunk in enumerate(csv_reader):\n",
    "    output_file = f'{output_prefix}{i}.csv'\n",
    "    chunk.to_csv(output_file, index=False)\n",
    "    print(f'Created {output_file}')\n",
    "\n",
    "# Step 3: delete the original large csv file\n",
    "import os\n",
    "os.remove(input_csv_file_path)"
   ]
  },
  {
   "cell_type": "markdown",
   "id": "9ec9175a",
   "metadata": {},
   "source": [
    "<a name='step-1-data-preparation-and-visualization'></a>\n",
    "### Step 1. Data Preparation and Visualization"
   ]
  },
  {
   "cell_type": "code",
   "execution_count": null,
   "id": "1a93372f",
   "metadata": {},
   "outputs": [
    {
     "name": "stdout",
     "output_type": "stream",
     "text": [
      "<class 'pandas.core.frame.DataFrame'>\n",
      "RangeIndex: 284807 entries, 0 to 284806\n",
      "Data columns (total 31 columns):\n",
      " #   Column  Non-Null Count   Dtype  \n",
      "---  ------  --------------   -----  \n",
      " 0   Time    284807 non-null  float64\n",
      " 1   V1      284807 non-null  float64\n",
      " 2   V2      284807 non-null  float64\n",
      " 3   V3      284807 non-null  float64\n",
      " 4   V4      284807 non-null  float64\n",
      " 5   V5      284807 non-null  float64\n",
      " 6   V6      284807 non-null  float64\n",
      " 7   V7      284807 non-null  float64\n",
      " 8   V8      284807 non-null  float64\n",
      " 9   V9      284807 non-null  float64\n",
      " 10  V10     284807 non-null  float64\n",
      " 11  V11     284807 non-null  float64\n",
      " 12  V12     284807 non-null  float64\n",
      " 13  V13     284807 non-null  float64\n",
      " 14  V14     284807 non-null  float64\n",
      " 15  V15     284807 non-null  float64\n",
      " 16  V16     284807 non-null  float64\n",
      " 17  V17     284807 non-null  float64\n",
      " 18  V18     284807 non-null  float64\n",
      " 19  V19     284807 non-null  float64\n",
      " 20  V20     284807 non-null  float64\n",
      " 21  V21     284807 non-null  float64\n",
      " 22  V22     284807 non-null  float64\n",
      " 23  V23     284807 non-null  float64\n",
      " 24  V24     284807 non-null  float64\n",
      " 25  V25     284807 non-null  float64\n",
      " 26  V26     284807 non-null  float64\n",
      " 27  V27     284807 non-null  float64\n",
      " 28  V28     284807 non-null  float64\n",
      " 29  Amount  284807 non-null  float64\n",
      " 30  Class   284807 non-null  int64  \n",
      "dtypes: float64(30), int64(1)\n",
      "memory usage: 67.4 MB\n"
     ]
    }
   ],
   "source": [
    "# Load files into a data frame\n",
    "import pandas as pd\n",
    "import glob\n",
    "\n",
    "path = './data/credit-card-fraud/'\n",
    "all_files = glob.glob(path + \"creditcard_part_*.csv\")\n",
    "\n",
    "df_list = []\n",
    "for filename in all_files:\n",
    "    df = pd.read_csv(filename)\n",
    "    df_list.append(df)\n",
    "df = pd.concat(df_list, ignore_index=True)\n",
    "\n",
    "df.info()"
   ]
  },
  {
   "cell_type": "code",
   "execution_count": null,
   "id": "4de788cb",
   "metadata": {},
   "outputs": [],
   "source": []
  },
  {
   "cell_type": "markdown",
   "id": "451ff7cd",
   "metadata": {},
   "source": [
    "<a name='Unsupervised-Learning'></a>\n",
    "## Unsupervised Learning"
   ]
  },
  {
   "cell_type": "markdown",
   "id": "1765f578",
   "metadata": {},
   "source": []
  }
 ],
 "metadata": {
  "kernelspec": {
   "display_name": "ML-General",
   "language": "python",
   "name": "python3"
  },
  "language_info": {
   "codemirror_mode": {
    "name": "ipython",
    "version": 3
   },
   "file_extension": ".py",
   "mimetype": "text/x-python",
   "name": "python",
   "nbconvert_exporter": "python",
   "pygments_lexer": "ipython3",
   "version": "3.12.2"
  }
 },
 "nbformat": 4,
 "nbformat_minor": 5
}
