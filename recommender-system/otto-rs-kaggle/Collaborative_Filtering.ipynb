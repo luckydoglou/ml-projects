{
 "cells": [
  {
   "cell_type": "code",
   "execution_count": 1,
   "id": "886874d9",
   "metadata": {},
   "outputs": [],
   "source": [
    "# import cudf\n",
    "import numpy as np # linear algebra\n",
    "import pandas as pd # data processing, CSV file I/O (e.g. pd.read_csv)\n",
    "\n",
    "# Input data files are available in the read-only \"../input/\" directory\n",
    "# For example, running this (by clicking run or pressing Shift+Enter) will list all files under the input directory\n",
    "\n",
    "import os\n",
    "import scipy\n",
    "from scipy import stats\n",
    "import seaborn as sns\n",
    "import matplotlib.pyplot as plt\n",
    "# import cupy\n",
    "import glob\n",
    "import time"
   ]
  },
  {
   "cell_type": "markdown",
   "id": "09367027",
   "metadata": {},
   "source": [
    "### Loading and Analyzing JSON Data\n",
    "We will begin by loading json data with a small subset of around 100k as the original dataset is quite big, and we may run out of RAM computing that."
   ]
  },
  {
   "cell_type": "code",
   "execution_count": 2,
   "id": "616bd973",
   "metadata": {},
   "outputs": [
    {
     "name": "stdout",
     "output_type": "stream",
     "text": [
      "CPU times: user 4.49 s, sys: 634 ms, total: 5.12 s\n",
      "Wall time: 5.14 s\n"
     ]
    },
    {
     "data": {
      "text/html": [
       "<div>\n",
       "<style scoped>\n",
       "    .dataframe tbody tr th:only-of-type {\n",
       "        vertical-align: middle;\n",
       "    }\n",
       "\n",
       "    .dataframe tbody tr th {\n",
       "        vertical-align: top;\n",
       "    }\n",
       "\n",
       "    .dataframe thead th {\n",
       "        text-align: right;\n",
       "    }\n",
       "</style>\n",
       "<table border=\"1\" class=\"dataframe\">\n",
       "  <thead>\n",
       "    <tr style=\"text-align: right;\">\n",
       "      <th></th>\n",
       "      <th>session</th>\n",
       "      <th>aid</th>\n",
       "      <th>ts</th>\n",
       "      <th>type</th>\n",
       "    </tr>\n",
       "  </thead>\n",
       "  <tbody>\n",
       "    <tr>\n",
       "      <th>0</th>\n",
       "      <td>0</td>\n",
       "      <td>1517085</td>\n",
       "      <td>1659304800025</td>\n",
       "      <td>clicks</td>\n",
       "    </tr>\n",
       "    <tr>\n",
       "      <th>1</th>\n",
       "      <td>0</td>\n",
       "      <td>1563459</td>\n",
       "      <td>1659304904511</td>\n",
       "      <td>clicks</td>\n",
       "    </tr>\n",
       "    <tr>\n",
       "      <th>2</th>\n",
       "      <td>0</td>\n",
       "      <td>1309446</td>\n",
       "      <td>1659367439426</td>\n",
       "      <td>clicks</td>\n",
       "    </tr>\n",
       "    <tr>\n",
       "      <th>3</th>\n",
       "      <td>0</td>\n",
       "      <td>16246</td>\n",
       "      <td>1659367719997</td>\n",
       "      <td>clicks</td>\n",
       "    </tr>\n",
       "    <tr>\n",
       "      <th>4</th>\n",
       "      <td>0</td>\n",
       "      <td>1781822</td>\n",
       "      <td>1659367871344</td>\n",
       "      <td>clicks</td>\n",
       "    </tr>\n",
       "    <tr>\n",
       "      <th>...</th>\n",
       "      <td>...</td>\n",
       "      <td>...</td>\n",
       "      <td>...</td>\n",
       "      <td>...</td>\n",
       "    </tr>\n",
       "    <tr>\n",
       "      <th>5227648</th>\n",
       "      <td>99999</td>\n",
       "      <td>1544954</td>\n",
       "      <td>1660373630318</td>\n",
       "      <td>clicks</td>\n",
       "    </tr>\n",
       "    <tr>\n",
       "      <th>5227649</th>\n",
       "      <td>99999</td>\n",
       "      <td>1032408</td>\n",
       "      <td>1660373656430</td>\n",
       "      <td>clicks</td>\n",
       "    </tr>\n",
       "    <tr>\n",
       "      <th>5227650</th>\n",
       "      <td>99999</td>\n",
       "      <td>1544954</td>\n",
       "      <td>1660373678083</td>\n",
       "      <td>clicks</td>\n",
       "    </tr>\n",
       "    <tr>\n",
       "      <th>5227651</th>\n",
       "      <td>99999</td>\n",
       "      <td>554230</td>\n",
       "      <td>1660373715477</td>\n",
       "      <td>clicks</td>\n",
       "    </tr>\n",
       "    <tr>\n",
       "      <th>5227652</th>\n",
       "      <td>99999</td>\n",
       "      <td>1544954</td>\n",
       "      <td>1660373725829</td>\n",
       "      <td>clicks</td>\n",
       "    </tr>\n",
       "  </tbody>\n",
       "</table>\n",
       "<p>5227653 rows × 4 columns</p>\n",
       "</div>"
      ],
      "text/plain": [
       "         session      aid             ts    type\n",
       "0              0  1517085  1659304800025  clicks\n",
       "1              0  1563459  1659304904511  clicks\n",
       "2              0  1309446  1659367439426  clicks\n",
       "3              0    16246  1659367719997  clicks\n",
       "4              0  1781822  1659367871344  clicks\n",
       "...          ...      ...            ...     ...\n",
       "5227648    99999  1544954  1660373630318  clicks\n",
       "5227649    99999  1032408  1660373656430  clicks\n",
       "5227650    99999  1544954  1660373678083  clicks\n",
       "5227651    99999   554230  1660373715477  clicks\n",
       "5227652    99999  1544954  1660373725829  clicks\n",
       "\n",
       "[5227653 rows x 4 columns]"
      ]
     },
     "execution_count": 2,
     "metadata": {},
     "output_type": "execute_result"
    }
   ],
   "source": [
    "%%time\n",
    "train_df = pd.DataFrame()\n",
    "chunks = pd.read_json('otto-recommender-system/train.jsonl', lines=True, chunksize=100_000)\n",
    "\n",
    "for chunk in chunks:\n",
    "    event_dict = {'session': [], 'aid': [], 'ts': [], 'type': []}\n",
    "\n",
    "    for session, events in zip(chunk['session'].to_list(), chunk['events'].to_list()):\n",
    "        for event in events:\n",
    "            event_dict['session'].append(session)\n",
    "            event_dict['aid'].append(event['aid'])\n",
    "            event_dict['ts'].append(event['ts'])\n",
    "            event_dict['type'].append(event['type'])\n",
    "    train_df = pd.DataFrame(event_dict)\n",
    "    break\n",
    "\n",
    "train_df = train_df.reset_index(drop=True)\n",
    "train_df"
   ]
  },
  {
   "cell_type": "markdown",
   "id": "82f38c61",
   "metadata": {},
   "source": [
    "We observe that there are three types of events here clicks, carts and orders, so let's check if there are any correlation amongst these events, since we are looking at an Multi-Objective Recommender System, we would want to be able to estabilish how the user's purchasing history was determined for generating better recommendations.\n",
    "\n",
    "Since the features in consideration are categorical variables, we will use 2x2 contingency table and corr() metrics to estabilish correlation."
   ]
  },
  {
   "cell_type": "code",
   "execution_count": 3,
   "id": "a75bde5e",
   "metadata": {},
   "outputs": [
    {
     "data": {
      "image/png": "[encoded data removed]",
      "text/plain": [
       "<Figure size 640x480 with 2 Axes>"
      ]
     },
     "metadata": {},
     "output_type": "display_data"
    }
   ],
   "source": [
    "ct = pd.crosstab(index=train_df['session'], columns=train_df['type'])\n",
    "sns.heatmap(ct.corr(), cmap='Blues', annot=True)\n",
    "plt.show()"
   ]
  },
  {
   "cell_type": "markdown",
   "id": "f64e4f80",
   "metadata": {},
   "source": [
    "we observe that there is 61% probability of clicks being put into carts. 64% probability that the items in carts are being ordered."
   ]
  },
  {
   "cell_type": "code",
   "execution_count": 4,
   "id": "e8b3a525",
   "metadata": {},
   "outputs": [],
   "source": [
    "del train_df, ct "
   ]
  },
  {
   "cell_type": "markdown",
   "id": "0f4974d1",
   "metadata": {},
   "source": [
    "### Loading Data and Creating a Recommender System based on Matrix Factorization\n",
    "We will proceed with using the otto-full-optimized-memory-footprint dataset since it is a compressed version with libraries like Merlin, and cuDF, we will proceed with creating a model."
   ]
  },
  {
   "cell_type": "code",
   "execution_count": 5,
   "id": "426f8c32",
   "metadata": {},
   "outputs": [
    {
     "name": "stdout",
     "output_type": "stream",
     "text": [
      "CPU times: user 1 μs, sys: 0 ns, total: 1 μs\n",
      "Wall time: 5.72 μs\n"
     ]
    }
   ],
   "source": [
    "#we need to create columns specifically for type, time-stamps and aid which is the unique id\n",
    "# lets time the process\n",
    "%time\n",
    "\n",
    "train_df = pd.read_parquet('otto-recommender-system/otto-full-optimized-memory-footprint/train.parquet')\n",
    "test_df = pd.read_parquet('otto-recommender-system/otto-full-optimized-memory-footprint/test.parquet')"
   ]
  },
  {
   "cell_type": "markdown",
   "id": "094bac0d",
   "metadata": {},
   "source": [
    "We need to create aid-aid pairs to train our matrix factorization model!\n",
    "\n",
    "Let's us grab the pairs both from the train and test set."
   ]
  },
  {
   "cell_type": "code",
   "execution_count": null,
   "id": "0ba94906",
   "metadata": {},
   "outputs": [
    {
     "name": "stdout",
     "output_type": "stream",
     "text": [
      "CPU times: user 2 μs, sys: 1 μs, total: 3 μs\n",
      "Wall time: 10 μs\n"
     ]
    },
    {
     "data": {
      "text/html": [
       "<div>\n",
       "<style scoped>\n",
       "    .dataframe tbody tr th:only-of-type {\n",
       "        vertical-align: middle;\n",
       "    }\n",
       "\n",
       "    .dataframe tbody tr th {\n",
       "        vertical-align: top;\n",
       "    }\n",
       "\n",
       "    .dataframe thead th {\n",
       "        text-align: right;\n",
       "    }\n",
       "</style>\n",
       "<table border=\"1\" class=\"dataframe\">\n",
       "  <thead>\n",
       "    <tr style=\"text-align: right;\">\n",
       "      <th></th>\n",
       "      <th>session</th>\n",
       "      <th>aid</th>\n",
       "    </tr>\n",
       "  </thead>\n",
       "  <tbody>\n",
       "    <tr>\n",
       "      <th>0</th>\n",
       "      <td>0</td>\n",
       "      <td>1517085</td>\n",
       "    </tr>\n",
       "    <tr>\n",
       "      <th>1</th>\n",
       "      <td>0</td>\n",
       "      <td>1563459</td>\n",
       "    </tr>\n",
       "    <tr>\n",
       "      <th>2</th>\n",
       "      <td>0</td>\n",
       "      <td>1309446</td>\n",
       "    </tr>\n",
       "    <tr>\n",
       "      <th>3</th>\n",
       "      <td>0</td>\n",
       "      <td>16246</td>\n",
       "    </tr>\n",
       "    <tr>\n",
       "      <th>4</th>\n",
       "      <td>0</td>\n",
       "      <td>1781822</td>\n",
       "    </tr>\n",
       "    <tr>\n",
       "      <th>...</th>\n",
       "      <td>...</td>\n",
       "      <td>...</td>\n",
       "    </tr>\n",
       "    <tr>\n",
       "      <th>6928118</th>\n",
       "      <td>14571577</td>\n",
       "      <td>1141710</td>\n",
       "    </tr>\n",
       "    <tr>\n",
       "      <th>6928119</th>\n",
       "      <td>14571578</td>\n",
       "      <td>519105</td>\n",
       "    </tr>\n",
       "    <tr>\n",
       "      <th>6928120</th>\n",
       "      <td>14571579</td>\n",
       "      <td>739876</td>\n",
       "    </tr>\n",
       "    <tr>\n",
       "      <th>6928121</th>\n",
       "      <td>14571580</td>\n",
       "      <td>202353</td>\n",
       "    </tr>\n",
       "    <tr>\n",
       "      <th>6928122</th>\n",
       "      <td>14571581</td>\n",
       "      <td>1100210</td>\n",
       "    </tr>\n",
       "  </tbody>\n",
       "</table>\n",
       "<p>223644219 rows × 2 columns</p>\n",
       "</div>"
      ],
      "text/plain": [
       "          session      aid\n",
       "0               0  1517085\n",
       "1               0  1563459\n",
       "2               0  1309446\n",
       "3               0    16246\n",
       "4               0  1781822\n",
       "...           ...      ...\n",
       "6928118  14571577  1141710\n",
       "6928119  14571578   519105\n",
       "6928120  14571579   739876\n",
       "6928121  14571580   202353\n",
       "6928122  14571581  1100210\n",
       "\n",
       "[223644219 rows x 2 columns]"
      ]
     },
     "execution_count": 6,
     "metadata": {},
     "output_type": "execute_result"
    }
   ],
   "source": [
    "%time\n",
    "train_pairs = pd.concat([train_df, test_df])[['session','aid']]\n",
    "\n",
    "del train_df, test_df\n",
    "\n",
    "train_pairs['aid_next'] = train_pairs.groupby('session').aid.shift(-1)\n",
    "train_pairs = train_pairs[['aid', 'aid_next']].dropna().reset_index(drop=True)"
   ]
  },
  {
   "cell_type": "markdown",
   "id": "fed407e8",
   "metadata": {},
   "source": [
    "cardinality means possible values the feature can assume, so here it is possible that 'aid' column can have many values."
   ]
  },
  {
   "cell_type": "code",
   "execution_count": null,
   "id": "f3040ca2",
   "metadata": {},
   "outputs": [],
   "source": [
    "cardinality_aids = max(train_pairs['aid'].max(), train_pairs['aid_next'].max())\n",
    "cardinality_aids"
   ]
  },
  {
   "cell_type": "code",
   "execution_count": null,
   "id": "d5dd51dd",
   "metadata": {},
   "outputs": [],
   "source": []
  },
  {
   "cell_type": "code",
   "execution_count": null,
   "id": "5424a9e3",
   "metadata": {},
   "outputs": [],
   "source": []
  },
  {
   "cell_type": "code",
   "execution_count": null,
   "id": "d30b66c4",
   "metadata": {},
   "outputs": [],
   "source": []
  }
 ],
 "metadata": {
  "kernelspec": {
   "display_name": "ML-General",
   "language": "python",
   "name": "python3"
  },
  "language_info": {
   "codemirror_mode": {
    "name": "ipython",
    "version": 3
   },
   "file_extension": ".py",
   "mimetype": "text/x-python",
   "name": "python",
   "nbconvert_exporter": "python",
   "pygments_lexer": "ipython3",
   "version": "3.12.9"
  }
 },
 "nbformat": 4,
 "nbformat_minor": 5
}
