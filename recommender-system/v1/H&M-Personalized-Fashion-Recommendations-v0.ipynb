{
 "cells": [
  {
   "cell_type": "markdown",
   "id": "15f5b788",
   "metadata": {},
   "source": [
    "# H&M Personalized Fashion Recommendations\n",
    "\n",
    "Techniques and tools used: \n",
    "\n",
    "Kaggle competition link: https://www.kaggle.com/competitions/h-and-m-personalized-fashion-recommendations/overview\n",
    "\n",
    "Refs\n",
    "1. a\n",
    "2. b\n",
    "3. c"
   ]
  },
  {
   "cell_type": "markdown",
   "id": "4966a534",
   "metadata": {},
   "source": []
  }
 ],
 "metadata": {
  "kernelspec": {
   "display_name": "ML-General",
   "language": "python",
   "name": "python3"
  },
  "language_info": {
   "name": "python",
   "version": "3.12.2"
  }
 },
 "nbformat": 4,
 "nbformat_minor": 5
}
